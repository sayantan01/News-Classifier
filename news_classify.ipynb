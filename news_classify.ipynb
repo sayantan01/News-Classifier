{
 "cells": [
  {
   "cell_type": "code",
   "execution_count": 1,
   "metadata": {},
   "outputs": [],
   "source": [
    "import pandas as pd\n",
    "import numpy as np\n",
    "from sklearn.model_selection import train_test_split\n",
    "from tqdm import tqdm\n",
    "from gensim.models.doc2vec import Doc2Vec, TaggedDocument\n",
    "from sklearn.preprocessing import LabelEncoder\n",
    "from nltk import word_tokenize"
   ]
  },
  {
   "cell_type": "code",
   "execution_count": 3,
   "metadata": {},
   "outputs": [
    {
     "name": "stdout",
     "output_type": "stream",
     "text": [
      "(2225, 2)\n"
     ]
    },
    {
     "data": {
      "text/html": [
       "<div>\n",
       "<style scoped>\n",
       "    .dataframe tbody tr th:only-of-type {\n",
       "        vertical-align: middle;\n",
       "    }\n",
       "\n",
       "    .dataframe tbody tr th {\n",
       "        vertical-align: top;\n",
       "    }\n",
       "\n",
       "    .dataframe thead th {\n",
       "        text-align: right;\n",
       "    }\n",
       "</style>\n",
       "<table border=\"1\" class=\"dataframe\">\n",
       "  <thead>\n",
       "    <tr style=\"text-align: right;\">\n",
       "      <th></th>\n",
       "      <th>category</th>\n",
       "      <th>text</th>\n",
       "    </tr>\n",
       "  </thead>\n",
       "  <tbody>\n",
       "    <tr>\n",
       "      <th>0</th>\n",
       "      <td>tech</td>\n",
       "      <td>tv future in the hands of viewers with home th...</td>\n",
       "    </tr>\n",
       "    <tr>\n",
       "      <th>1</th>\n",
       "      <td>business</td>\n",
       "      <td>worldcom boss  left books alone  former worldc...</td>\n",
       "    </tr>\n",
       "    <tr>\n",
       "      <th>2</th>\n",
       "      <td>sport</td>\n",
       "      <td>tigers wary of farrell  gamble  leicester say ...</td>\n",
       "    </tr>\n",
       "    <tr>\n",
       "      <th>3</th>\n",
       "      <td>sport</td>\n",
       "      <td>yeading face newcastle in fa cup premiership s...</td>\n",
       "    </tr>\n",
       "    <tr>\n",
       "      <th>4</th>\n",
       "      <td>entertainment</td>\n",
       "      <td>ocean s twelve raids box office ocean s twelve...</td>\n",
       "    </tr>\n",
       "  </tbody>\n",
       "</table>\n",
       "</div>"
      ],
      "text/plain": [
       "        category                                               text\n",
       "0           tech  tv future in the hands of viewers with home th...\n",
       "1       business  worldcom boss  left books alone  former worldc...\n",
       "2          sport  tigers wary of farrell  gamble  leicester say ...\n",
       "3          sport  yeading face newcastle in fa cup premiership s...\n",
       "4  entertainment  ocean s twelve raids box office ocean s twelve..."
      ]
     },
     "execution_count": 3,
     "metadata": {},
     "output_type": "execute_result"
    }
   ],
   "source": [
    "df=pd.read_csv('dataset.csv',usecols=['category','text'])\n",
    "df.dropna()\n",
    "print(df.shape)\n",
    "df.head()"
   ]
  },
  {
   "cell_type": "code",
   "execution_count": 25,
   "metadata": {},
   "outputs": [
    {
     "name": "stdout",
     "output_type": "stream",
     "text": [
      "['business', 'entertainment', 'politics', 'sport', 'tech']\n"
     ]
    }
   ],
   "source": [
    "train_x,test_x,train_y,test_y=train_test_split(df['text'],df['category'],random_state=1)\n",
    "\n",
    "le=LabelEncoder()\n",
    "train_y=le.fit_transform(train_y)\n",
    "test_y=le.fit_transform(test_y)\n",
    "print(list(le.classes_))"
   ]
  },
  {
   "cell_type": "code",
   "execution_count": 5,
   "metadata": {},
   "outputs": [
    {
     "name": "stderr",
     "output_type": "stream",
     "text": [
      "100%|██████████| 1668/1668 [00:07<00:00, 232.76it/s]\n"
     ]
    }
   ],
   "source": [
    "tagged_data=[]\n",
    "for i in tqdm(range(len(train_x))):\n",
    "    tagged_data.append(TaggedDocument(word_tokenize(list(train_x)[i].lower()),[str(list(train_y)[i])]))"
   ]
  },
  {
   "cell_type": "code",
   "execution_count": 6,
   "metadata": {},
   "outputs": [
    {
     "name": "stderr",
     "output_type": "stream",
     "text": [
      "100%|██████████| 557/557 [00:02<00:00, 239.46it/s]\n"
     ]
    }
   ],
   "source": [
    "test_data=[]\n",
    "for i in tqdm(range(len(test_x))):\n",
    "    test_data.append(TaggedDocument(word_tokenize(list(test_x)[i].lower()),[str(list(test_y)[i])]))"
   ]
  },
  {
   "cell_type": "code",
   "execution_count": 7,
   "metadata": {},
   "outputs": [],
   "source": [
    "model=Doc2Vec(dm=1,vector_size=100,alpha=0.025,min_alpha=0.001,min_count=2)\n",
    "model.build_vocab([x for x in tagged_data])\n",
    "\n",
    "model.train(tagged_data,epochs=10,total_examples=len(tagged_data))"
   ]
  },
  {
   "cell_type": "code",
   "execution_count": 8,
   "metadata": {},
   "outputs": [],
   "source": [
    "model.save(\"d2v_model\")"
   ]
  },
  {
   "cell_type": "code",
   "execution_count": 9,
   "metadata": {},
   "outputs": [],
   "source": [
    "def genVector(model,dataset):\n",
    "    target,vector=zip(*[(doc.tags[0],model.infer_vector(doc.words)) for doc in dataset])\n",
    "    return target,vector"
   ]
  },
  {
   "cell_type": "code",
   "execution_count": 10,
   "metadata": {},
   "outputs": [],
   "source": [
    "mod=Doc2Vec.load(\"d2v_model\")\n",
    "y_train,x_train=genVector(mod,tagged_data)\n",
    "y_test,x_test=genVector(mod,test_data)"
   ]
  },
  {
   "cell_type": "code",
   "execution_count": 11,
   "metadata": {},
   "outputs": [
    {
     "name": "stdout",
     "output_type": "stream",
     "text": [
      "0.9676840215439856\n"
     ]
    }
   ],
   "source": [
    "from sklearn.linear_model import LogisticRegression\n",
    "\n",
    "logreg=LogisticRegression(n_jobs=1,C=1e5)\n",
    "logreg.fit(x_train,y_train)\n",
    "pred=logreg.predict(x_test)\n",
    "print(np.mean(pred==y_test))"
   ]
  },
  {
   "cell_type": "code",
   "execution_count": 12,
   "metadata": {},
   "outputs": [
    {
     "name": "stderr",
     "output_type": "stream",
     "text": [
      "Using TensorFlow backend.\n",
      "/home/sayantan/anaconda3/lib/python3.7/site-packages/tensorflow/python/framework/dtypes.py:526: FutureWarning: Passing (type, 1) or '1type' as a synonym of type is deprecated; in a future version of numpy, it will be understood as (type, (1,)) / '(1,)type'.\n",
      "  _np_qint8 = np.dtype([(\"qint8\", np.int8, 1)])\n",
      "/home/sayantan/anaconda3/lib/python3.7/site-packages/tensorflow/python/framework/dtypes.py:527: FutureWarning: Passing (type, 1) or '1type' as a synonym of type is deprecated; in a future version of numpy, it will be understood as (type, (1,)) / '(1,)type'.\n",
      "  _np_quint8 = np.dtype([(\"quint8\", np.uint8, 1)])\n",
      "/home/sayantan/anaconda3/lib/python3.7/site-packages/tensorflow/python/framework/dtypes.py:528: FutureWarning: Passing (type, 1) or '1type' as a synonym of type is deprecated; in a future version of numpy, it will be understood as (type, (1,)) / '(1,)type'.\n",
      "  _np_qint16 = np.dtype([(\"qint16\", np.int16, 1)])\n",
      "/home/sayantan/anaconda3/lib/python3.7/site-packages/tensorflow/python/framework/dtypes.py:529: FutureWarning: Passing (type, 1) or '1type' as a synonym of type is deprecated; in a future version of numpy, it will be understood as (type, (1,)) / '(1,)type'.\n",
      "  _np_quint16 = np.dtype([(\"quint16\", np.uint16, 1)])\n",
      "/home/sayantan/anaconda3/lib/python3.7/site-packages/tensorflow/python/framework/dtypes.py:530: FutureWarning: Passing (type, 1) or '1type' as a synonym of type is deprecated; in a future version of numpy, it will be understood as (type, (1,)) / '(1,)type'.\n",
      "  _np_qint32 = np.dtype([(\"qint32\", np.int32, 1)])\n",
      "/home/sayantan/anaconda3/lib/python3.7/site-packages/tensorflow/python/framework/dtypes.py:535: FutureWarning: Passing (type, 1) or '1type' as a synonym of type is deprecated; in a future version of numpy, it will be understood as (type, (1,)) / '(1,)type'.\n",
      "  np_resource = np.dtype([(\"resource\", np.ubyte, 1)])\n"
     ]
    }
   ],
   "source": [
    "from keras.models import Sequential\n",
    "from keras.layers import *\n",
    "from keras import metrics"
   ]
  },
  {
   "cell_type": "code",
   "execution_count": 13,
   "metadata": {},
   "outputs": [
    {
     "name": "stdout",
     "output_type": "stream",
     "text": [
      "WARNING:tensorflow:From /home/sayantan/anaconda3/lib/python3.7/site-packages/tensorflow/python/framework/op_def_library.py:263: colocate_with (from tensorflow.python.framework.ops) is deprecated and will be removed in a future version.\n",
      "Instructions for updating:\n",
      "Colocations handled automatically by placer.\n",
      "WARNING:tensorflow:From /home/sayantan/anaconda3/lib/python3.7/site-packages/keras/backend/tensorflow_backend.py:3445: calling dropout (from tensorflow.python.ops.nn_ops) with keep_prob is deprecated and will be removed in a future version.\n",
      "Instructions for updating:\n",
      "Please use `rate` instead of `keep_prob`. Rate should be set to `rate = 1 - keep_prob`.\n"
     ]
    }
   ],
   "source": [
    "m=Sequential()\n",
    "#m.add(InputLayer(input_shape=[len(x_train[0])]))\n",
    "m.add(InputLayer(input_shape=[100]))\n",
    "m.add(Dense(512,activation='relu'))\n",
    "m.add(Dense(512,activation='relu'))\n",
    "m.add(Dense(512,activation='relu'))\n",
    "\n",
    "m.add(Dropout(0.03))\n",
    "m.add(Dense(216,activation='relu'))\n",
    "m.add(Dropout(0.03))\n",
    "m.add(Dense(32,activation='softmax'))\n",
    "\n",
    "m.compile(loss='sparse_categorical_crossentropy',optimizer='adam',metrics=['accuracy'])"
   ]
  },
  {
   "cell_type": "code",
   "execution_count": 14,
   "metadata": {},
   "outputs": [
    {
     "name": "stdout",
     "output_type": "stream",
     "text": [
      "WARNING:tensorflow:From /home/sayantan/anaconda3/lib/python3.7/site-packages/tensorflow/python/ops/math_ops.py:3066: to_int32 (from tensorflow.python.ops.math_ops) is deprecated and will be removed in a future version.\n",
      "Instructions for updating:\n",
      "Use tf.cast instead.\n",
      "Train on 1584 samples, validate on 84 samples\n",
      "Epoch 1/10\n",
      "1584/1584 [==============================] - 3s 2ms/step - loss: 0.8122 - acc: 0.8567 - val_loss: 0.0432 - val_acc: 0.9881\n",
      "Epoch 2/10\n",
      "1584/1584 [==============================] - 1s 343us/step - loss: 0.0354 - acc: 0.9918 - val_loss: 0.0052 - val_acc: 1.0000\n",
      "Epoch 3/10\n",
      "1584/1584 [==============================] - 1s 341us/step - loss: 0.0149 - acc: 0.9949 - val_loss: 0.0033 - val_acc: 1.0000\n",
      "Epoch 4/10\n",
      "1584/1584 [==============================] - 1s 330us/step - loss: 0.0271 - acc: 0.9912 - val_loss: 0.0099 - val_acc: 1.0000\n",
      "Epoch 5/10\n",
      "1584/1584 [==============================] - 1s 335us/step - loss: 0.0538 - acc: 0.9893 - val_loss: 0.0062 - val_acc: 1.0000\n",
      "Epoch 6/10\n",
      "1584/1584 [==============================] - 1s 355us/step - loss: 0.0078 - acc: 0.9981 - val_loss: 0.0039 - val_acc: 1.0000\n",
      "Epoch 7/10\n",
      "1584/1584 [==============================] - 1s 335us/step - loss: 0.0060 - acc: 0.9981 - val_loss: 0.0013 - val_acc: 1.0000\n",
      "Epoch 8/10\n",
      "1584/1584 [==============================] - 1s 352us/step - loss: 0.0228 - acc: 0.9949 - val_loss: 0.0078 - val_acc: 1.0000\n",
      "Epoch 9/10\n",
      "1584/1584 [==============================] - 1s 352us/step - loss: 0.0076 - acc: 0.9975 - val_loss: 0.0019 - val_acc: 1.0000\n",
      "Epoch 10/10\n",
      "1584/1584 [==============================] - 1s 344us/step - loss: 0.0053 - acc: 0.9981 - val_loss: 0.0030 - val_acc: 1.0000\n"
     ]
    }
   ],
   "source": [
    "hist=m.fit(x=np.array(x_train),y=np.array(y_train),epochs=10,batch_size=100,verbose=1,validation_split=0.05)"
   ]
  },
  {
   "cell_type": "code",
   "execution_count": 16,
   "metadata": {},
   "outputs": [
    {
     "data": {
      "text/plain": [
       "['logreg.pkl']"
      ]
     },
     "execution_count": 16,
     "metadata": {},
     "output_type": "execute_result"
    }
   ],
   "source": [
    "import pickle\n",
    "import joblib\n",
    "\n",
    "filename1='neural_model.pkl'\n",
    "filename2='d2v.pkl'\n",
    "filename3='logreg.pkl'\n",
    "\n",
    "joblib.dump(model,filename2)\n",
    "joblib.dump(m,filename1)\n",
    "joblib.dump(logreg,filename3)"
   ]
  },
  {
   "cell_type": "code",
   "execution_count": 17,
   "metadata": {},
   "outputs": [
    {
     "name": "stdout",
     "output_type": "stream",
     "text": [
      "557/557 [==============================] - 0s 170us/step\n"
     ]
    },
    {
     "data": {
      "text/plain": [
       "[0.2081683358199279, 0.9676840215439856]"
      ]
     },
     "execution_count": 17,
     "metadata": {},
     "output_type": "execute_result"
    }
   ],
   "source": [
    "m.evaluate(np.array(x_test),np.array(y_test))"
   ]
  },
  {
   "cell_type": "code",
   "execution_count": 19,
   "metadata": {},
   "outputs": [
    {
     "data": {
      "image/png": "[encoded data removed]",
      "text/plain": [
       "<Figure size 432x288 with 1 Axes>"
      ]
     },
     "metadata": {
      "needs_background": "light"
     },
     "output_type": "display_data"
    }
   ],
   "source": [
    "import matplotlib.pyplot as plt\n",
    "plt.plot(hist.history['loss'])\n",
    "plt.plot(hist.history['val_loss'])\n",
    "plt.title('loss')\n",
    "plt.xlabel(['epoch'])\n",
    "plt.ylabel(['loss'])\n",
    "plt.legend(['Train', 'Val'], loc='upper right')\n",
    "plt.show()"
   ]
  },
  {
   "cell_type": "code",
   "execution_count": 20,
   "metadata": {},
   "outputs": [
    {
     "data": {
      "image/png": "[encoded data removed]",
      "text/plain": [
       "<Figure size 432x288 with 1 Axes>"
      ]
     },
     "metadata": {
      "needs_background": "light"
     },
     "output_type": "display_data"
    }
   ],
   "source": [
    "import matplotlib.pyplot as plt\n",
    "plt.plot(hist.history['acc'])\n",
    "plt.plot(hist.history['val_acc'])\n",
    "plt.title('Model accuracy')\n",
    "plt.ylabel('Accuracy',fontsize=15, fontweight='bold', labelpad=18)\n",
    "plt.xlabel('Epochs',fontsize=15, fontweight='bold', labelpad=18)\n",
    "plt.legend(['Train', 'Val'], loc='lower right')\n",
    "plt.show()\n",
    "\n"
   ]
  },
  {
   "cell_type": "code",
   "execution_count": 21,
   "metadata": {},
   "outputs": [
    {
     "name": "stdout",
     "output_type": "stream",
     "text": [
      "politics\n"
     ]
    }
   ],
   "source": [
    "prediction=m.predict(np.array([x_test[1]]))\n",
    "result=np.argmax(prediction[0])\n",
    "\n",
    "if(result==0):\n",
    "    print('business')\n",
    "if(result==1):\n",
    "    print('entertainment')\n",
    "if(result==2):\n",
    "    print('politics')\n",
    "if(result==3):\n",
    "    print('sports')\n",
    "if(result==4):\n",
    "    print('tech')"
   ]
  },
  {
   "cell_type": "code",
   "execution_count": 21,
   "metadata": {},
   "outputs": [
    {
     "name": "stdout",
     "output_type": "stream",
     "text": [
      "Sachin Scored a tremendous century today\n",
      "sports\n"
     ]
    }
   ],
   "source": [
    "a=str(input())\n",
    "b=word_tokenize(a.lower())\n",
    "fv=model.infer_vector(b)\n",
    "\n",
    "p=m.predict(np.array([fv]))\n",
    "result=np.argmax(p[0])\n",
    "\n",
    "if(result==0):\n",
    "    print('business')\n",
    "if(result==1):\n",
    "    print('entertainment')\n",
    "if(result==2):\n",
    "    print('politics')\n",
    "if(result==3):\n",
    "    print('sports')\n",
    "if(result==4):\n",
    "    print('tech')"
   ]
  },
  {
   "cell_type": "code",
   "execution_count": 32,
   "metadata": {},
   "outputs": [
    {
     "name": "stdout",
     "output_type": "stream",
     "text": [
      "(1668, 100)\n",
      "(1668,)\n"
     ]
    }
   ],
   "source": [
    "print(np.array(x_train).shape)\n",
    "print(train_x.shape)"
   ]
  },
  {
   "cell_type": "code",
   "execution_count": 22,
   "metadata": {},
   "outputs": [
    {
     "data": {
      "image/png": "[encoded data removed]",
      "text/plain": [
       "<Figure size 864x288 with 1 Axes>"
      ]
     },
     "metadata": {
      "needs_background": "light"
     },
     "output_type": "display_data"
    }
   ],
   "source": [
    "import matplotlib.pyplot as plt\n",
    "import seaborn as sns\n",
    "\n",
    "cnt_pro = df['category'].value_counts()\n",
    "plt.figure(figsize=(12,4))\n",
    "sns.barplot(cnt_pro.index, cnt_pro.values, alpha=0.8)\n",
    "plt.tick_params(color='r',labelsize=15)\n",
    "plt.ylabel('Number of Occurrences', fontsize=15, labelpad=18, fontweight='bold')\n",
    "plt.xlabel('News Category', fontsize=15, fontweight='bold')\n",
    "plt.xticks(rotation=90)\n",
    "plt.show();"
   ]
  },
  {
   "cell_type": "code",
   "execution_count": null,
   "metadata": {},
   "outputs": [],
   "source": []
  }
 ],
 "metadata": {
  "kernelspec": {
   "display_name": "Python 3",
   "language": "python",
   "name": "python3"
  },
  "language_info": {
   "codemirror_mode": {
    "name": "ipython",
    "version": 3
   },
   "file_extension": ".py",
   "mimetype": "text/x-python",
   "name": "python",
   "nbconvert_exporter": "python",
   "pygments_lexer": "ipython3",
   "version": "3.7.3"
  }
 },
 "nbformat": 4,
 "nbformat_minor": 2
}
