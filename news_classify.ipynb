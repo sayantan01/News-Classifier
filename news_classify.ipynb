{
 "cells": [
  {
   "cell_type": "code",
   "execution_count": 4,
   "metadata": {},
   "outputs": [],
   "source": [
    "import pandas as pd\n",
    "import numpy as np\n",
    "from sklearn.model_selection import train_test_split\n",
    "from tqdm import tqdm\n",
    "from gensim.models.doc2vec import Doc2Vec, TaggedDocument\n",
    "from sklearn.preprocessing import LabelEncoder\n",
    "from nltk import word_tokenize"
   ]
  },
  {
   "cell_type": "code",
   "execution_count": 5,
   "metadata": {},
   "outputs": [
    {
     "name": "stdout",
     "output_type": "stream",
     "text": [
      "(2225, 2)\n"
     ]
    },
    {
     "data": {
      "text/html": [
       "<div>\n",
       "<style scoped>\n",
       "    .dataframe tbody tr th:only-of-type {\n",
       "        vertical-align: middle;\n",
       "    }\n",
       "\n",
       "    .dataframe tbody tr th {\n",
       "        vertical-align: top;\n",
       "    }\n",
       "\n",
       "    .dataframe thead th {\n",
       "        text-align: right;\n",
       "    }\n",
       "</style>\n",
       "<table border=\"1\" class=\"dataframe\">\n",
       "  <thead>\n",
       "    <tr style=\"text-align: right;\">\n",
       "      <th></th>\n",
       "      <th>category</th>\n",
       "      <th>text</th>\n",
       "    </tr>\n",
       "  </thead>\n",
       "  <tbody>\n",
       "    <tr>\n",
       "      <th>0</th>\n",
       "      <td>tech</td>\n",
       "      <td>tv future in the hands of viewers with home th...</td>\n",
       "    </tr>\n",
       "    <tr>\n",
       "      <th>1</th>\n",
       "      <td>business</td>\n",
       "      <td>worldcom boss  left books alone  former worldc...</td>\n",
       "    </tr>\n",
       "    <tr>\n",
       "      <th>2</th>\n",
       "      <td>sport</td>\n",
       "      <td>tigers wary of farrell  gamble  leicester say ...</td>\n",
       "    </tr>\n",
       "    <tr>\n",
       "      <th>3</th>\n",
       "      <td>sport</td>\n",
       "      <td>yeading face newcastle in fa cup premiership s...</td>\n",
       "    </tr>\n",
       "    <tr>\n",
       "      <th>4</th>\n",
       "      <td>entertainment</td>\n",
       "      <td>ocean s twelve raids box office ocean s twelve...</td>\n",
       "    </tr>\n",
       "  </tbody>\n",
       "</table>\n",
       "</div>"
      ],
      "text/plain": [
       "        category                                               text\n",
       "0           tech  tv future in the hands of viewers with home th...\n",
       "1       business  worldcom boss  left books alone  former worldc...\n",
       "2          sport  tigers wary of farrell  gamble  leicester say ...\n",
       "3          sport  yeading face newcastle in fa cup premiership s...\n",
       "4  entertainment  ocean s twelve raids box office ocean s twelve..."
      ]
     },
     "execution_count": 5,
     "metadata": {},
     "output_type": "execute_result"
    }
   ],
   "source": [
    "df=pd.read_csv('dataset.csv',usecols=['category','text'])\n",
    "df.dropna()\n",
    "print(df.shape)\n",
    "df.head()"
   ]
  },
  {
   "cell_type": "code",
   "execution_count": 86,
   "metadata": {},
   "outputs": [
    {
     "name": "stdout",
     "output_type": "stream",
     "text": [
      "['business', 'entertainment', 'politics', 'sport', 'tech']\n"
     ]
    }
   ],
   "source": [
    "train_x,test_x,train_y,test_y=train_test_split(df['text'],df['category'],random_state=1)\n",
    "\n",
    "le=LabelEncoder()\n",
    "train_y=le.fit_transform(train_y)\n",
    "test_y=le.fit_transform(test_y)\n",
    "print(list(le.classes_))"
   ]
  },
  {
   "cell_type": "code",
   "execution_count": 87,
   "metadata": {},
   "outputs": [
    {
     "name": "stderr",
     "output_type": "stream",
     "text": [
      "100%|██████████| 1668/1668 [00:06<00:00, 241.14it/s]\n"
     ]
    }
   ],
   "source": [
    "tagged_data=[]\n",
    "for i in tqdm(range(len(train_x))):\n",
    "    tagged_data.append(TaggedDocument(word_tokenize(list(train_x)[i].lower()),[str(list(train_y)[i])]))"
   ]
  },
  {
   "cell_type": "code",
   "execution_count": 88,
   "metadata": {},
   "outputs": [
    {
     "name": "stderr",
     "output_type": "stream",
     "text": [
      "100%|██████████| 557/557 [00:02<00:00, 254.10it/s]\n"
     ]
    }
   ],
   "source": [
    "test_data=[]\n",
    "for i in tqdm(range(len(test_x))):\n",
    "    test_data.append(TaggedDocument(word_tokenize(list(test_x)[i].lower()),[str(list(test_y)[i])]))"
   ]
  },
  {
   "cell_type": "code",
   "execution_count": 89,
   "metadata": {},
   "outputs": [],
   "source": [
    "model=Doc2Vec(dm=1,vector_size=100,alpha=0.025,min_alpha=0.001,min_count=2)\n",
    "model.build_vocab([x for x in tagged_data])\n",
    "\n",
    "model.train(tagged_data,epochs=10,total_examples=len(tagged_data))"
   ]
  },
  {
   "cell_type": "code",
   "execution_count": 90,
   "metadata": {},
   "outputs": [],
   "source": [
    "model.save(\"d2v_model\")"
   ]
  },
  {
   "cell_type": "code",
   "execution_count": 91,
   "metadata": {},
   "outputs": [],
   "source": [
    "def genVector(model,dataset):\n",
    "    target,vector=zip(*[(doc.tags[0],model.infer_vector(doc.words)) for doc in dataset])\n",
    "    return target,vector"
   ]
  },
  {
   "cell_type": "code",
   "execution_count": 92,
   "metadata": {},
   "outputs": [],
   "source": [
    "mod=Doc2Vec.load(\"d2v_model\")\n",
    "y_train,x_train=genVector(mod,tagged_data)\n",
    "y_test,x_test=genVector(mod,test_data)"
   ]
  },
  {
   "cell_type": "code",
   "execution_count": 93,
   "metadata": {},
   "outputs": [
    {
     "name": "stderr",
     "output_type": "stream",
     "text": [
      "/home/sayantan/anaconda3/lib/python3.7/site-packages/sklearn/linear_model/logistic.py:433: FutureWarning: Default solver will be changed to 'lbfgs' in 0.22. Specify a solver to silence this warning.\n",
      "  FutureWarning)\n",
      "/home/sayantan/anaconda3/lib/python3.7/site-packages/sklearn/linear_model/logistic.py:460: FutureWarning: Default multi_class will be changed to 'auto' in 0.22. Specify the multi_class option to silence this warning.\n",
      "  \"this warning.\", FutureWarning)\n"
     ]
    },
    {
     "name": "stdout",
     "output_type": "stream",
     "text": [
      "0.9730700179533214\n"
     ]
    }
   ],
   "source": [
    "from sklearn.linear_model import LogisticRegression\n",
    "\n",
    "logreg=LogisticRegression(n_jobs=1,C=1e5)\n",
    "logreg.fit(x_train,y_train)\n",
    "pred=logreg.predict(x_test)\n",
    "print(np.mean(pred==y_test))"
   ]
  },
  {
   "cell_type": "code",
   "execution_count": 94,
   "metadata": {},
   "outputs": [],
   "source": [
    "from keras.models import Sequential\n",
    "from keras.layers import *\n",
    "from keras import metrics"
   ]
  },
  {
   "cell_type": "code",
   "execution_count": 95,
   "metadata": {},
   "outputs": [],
   "source": [
    "m=Sequential()\n",
    "#m.add(InputLayer(input_shape=[len(x_train[0])]))\n",
    "m.add(InputLayer(input_shape=[100]))\n",
    "m.add(Dense(512,activation='relu'))\n",
    "m.add(Dense(512,activation='relu'))\n",
    "m.add(Dense(512,activation='relu'))\n",
    "\n",
    "m.add(Dropout(0.03))\n",
    "m.add(Dense(216,activation='relu'))\n",
    "m.add(Dropout(0.03))\n",
    "m.add(Dense(32,activation='softmax'))\n",
    "\n",
    "m.compile(loss='sparse_categorical_crossentropy',optimizer='adam',metrics=['accuracy'])"
   ]
  },
  {
   "cell_type": "code",
   "execution_count": 96,
   "metadata": {},
   "outputs": [
    {
     "name": "stdout",
     "output_type": "stream",
     "text": [
      "Train on 1584 samples, validate on 84 samples\n",
      "Epoch 1/10\n",
      "1584/1584 [==============================] - 1s 832us/step - loss: 0.8937 - acc: 0.7992 - val_loss: 0.0482 - val_acc: 0.9881\n",
      "Epoch 2/10\n",
      "1584/1584 [==============================] - 1s 319us/step - loss: 0.0357 - acc: 0.9912 - val_loss: 0.0153 - val_acc: 0.9881\n",
      "Epoch 3/10\n",
      "1584/1584 [==============================] - 1s 320us/step - loss: 0.0241 - acc: 0.9918 - val_loss: 0.0155 - val_acc: 0.9881\n",
      "Epoch 4/10\n",
      "1584/1584 [==============================] - 1s 336us/step - loss: 0.0473 - acc: 0.9899 - val_loss: 0.0914 - val_acc: 0.9643\n",
      "Epoch 5/10\n",
      "1584/1584 [==============================] - 1s 331us/step - loss: 0.0131 - acc: 0.9943 - val_loss: 0.0090 - val_acc: 1.0000\n",
      "Epoch 6/10\n",
      "1584/1584 [==============================] - 1s 318us/step - loss: 0.0095 - acc: 0.9975 - val_loss: 0.0031 - val_acc: 1.0000\n",
      "Epoch 7/10\n",
      "1584/1584 [==============================] - 1s 324us/step - loss: 0.0110 - acc: 0.9968 - val_loss: 0.0038 - val_acc: 1.0000\n",
      "Epoch 8/10\n",
      "1584/1584 [==============================] - 1s 337us/step - loss: 0.0067 - acc: 0.9987 - val_loss: 0.0109 - val_acc: 0.9881\n",
      "Epoch 9/10\n",
      "1584/1584 [==============================] - 1s 327us/step - loss: 0.0050 - acc: 0.9987 - val_loss: 0.0207 - val_acc: 0.9881\n",
      "Epoch 10/10\n",
      "1584/1584 [==============================] - 1s 352us/step - loss: 0.0042 - acc: 0.9987 - val_loss: 0.0033 - val_acc: 1.0000\n"
     ]
    }
   ],
   "source": [
    "hist=m.fit(x=np.array(x_train),y=np.array(y_train),epochs=10,batch_size=100,verbose=1,validation_split=0.05)"
   ]
  },
  {
   "cell_type": "code",
   "execution_count": 97,
   "metadata": {},
   "outputs": [
    {
     "data": {
      "text/plain": [
       "['logreg.pkl']"
      ]
     },
     "execution_count": 97,
     "metadata": {},
     "output_type": "execute_result"
    }
   ],
   "source": [
    "import pickle\n",
    "from sklearn.externals import joblib\n",
    "\n",
    "filename1='neural_model.pkl'\n",
    "filename2='d2v.pkl'\n",
    "filename3='logreg.pkl'\n",
    "\n",
    "joblib.dump(model,filename2)\n",
    "joblib.dump(m,filename1)\n",
    "joblib.dump(logreg,filename3)"
   ]
  },
  {
   "cell_type": "code",
   "execution_count": 98,
   "metadata": {},
   "outputs": [
    {
     "name": "stdout",
     "output_type": "stream",
     "text": [
      "557/557 [==============================] - 0s 168us/step\n"
     ]
    },
    {
     "data": {
      "text/plain": [
       "[0.13724578883251445, 0.9820466786355476]"
      ]
     },
     "execution_count": 98,
     "metadata": {},
     "output_type": "execute_result"
    }
   ],
   "source": [
    "m.evaluate(np.array(x_test),np.array(y_test))"
   ]
  },
  {
   "cell_type": "code",
   "execution_count": null,
   "metadata": {},
   "outputs": [],
   "source": [
    "import matplotlib.pyplot as plt\n",
    "plt.plot(hist.history['loss'])\n",
    "plt.plot(hist.history['val_loss'])\n",
    "plt.title('loss')\n",
    "plt.xlabel(['epoch'])\n",
    "plt.ylabel(['loss'])\n",
    "plt.legend(['Train', 'Val'], loc='upper right')\n",
    "plt.show()"
   ]
  },
  {
   "cell_type": "code",
   "execution_count": null,
   "metadata": {},
   "outputs": [],
   "source": [
    "import matplotlib.pyplot as plt\n",
    "plt.plot(hist.history['acc'])\n",
    "plt.plot(hist.history['val_acc'])\n",
    "plt.title('Model accuracy')\n",
    "plt.ylabel('Accuracy',fontsize=15, fontweight='bold', labelpad=18)\n",
    "plt.xlabel('Epochs',fontsize=15, fontweight='bold', labelpad=18)\n",
    "plt.legend(['Train', 'Val'], loc='lower right')\n",
    "plt.show()\n",
    "\n"
   ]
  },
  {
   "cell_type": "code",
   "execution_count": 19,
   "metadata": {},
   "outputs": [
    {
     "name": "stdout",
     "output_type": "stream",
     "text": [
      "politics\n"
     ]
    }
   ],
   "source": [
    "prediction=m.predict(np.array([x_test[1]]))\n",
    "result=np.argmax(prediction[0])\n",
    "\n",
    "if(result==0):\n",
    "    print('business')\n",
    "if(result==1):\n",
    "    print('entertainment')\n",
    "if(result==2):\n",
    "    print('politics')\n",
    "if(result==3):\n",
    "    print('sports')\n",
    "if(result==4):\n",
    "    print('tech')"
   ]
  },
  {
   "cell_type": "code",
   "execution_count": 21,
   "metadata": {},
   "outputs": [
    {
     "name": "stdout",
     "output_type": "stream",
     "text": [
      "Sachin Scored a tremendous century today\n",
      "sports\n"
     ]
    }
   ],
   "source": [
    "a=str(input())\n",
    "b=word_tokenize(a.lower())\n",
    "fv=model.infer_vector(b)\n",
    "\n",
    "p=m.predict(np.array([fv]))\n",
    "result=np.argmax(p[0])\n",
    "\n",
    "if(result==0):\n",
    "    print('business')\n",
    "if(result==1):\n",
    "    print('entertainment')\n",
    "if(result==2):\n",
    "    print('politics')\n",
    "if(result==3):\n",
    "    print('sports')\n",
    "if(result==4):\n",
    "    print('tech')"
   ]
  },
  {
   "cell_type": "code",
   "execution_count": 32,
   "metadata": {},
   "outputs": [
    {
     "name": "stdout",
     "output_type": "stream",
     "text": [
      "(1668, 100)\n",
      "(1668,)\n"
     ]
    }
   ],
   "source": [
    "print(np.array(x_train).shape)\n",
    "print(train_x.shape)"
   ]
  },
  {
   "cell_type": "code",
   "execution_count": 16,
   "metadata": {},
   "outputs": [
    {
     "data": {
      "image/png": "[encoded data removed]",
      "text/plain": [
       "<Figure size 864x288 with 1 Axes>"
      ]
     },
     "metadata": {
      "needs_background": "light"
     },
     "output_type": "display_data"
    }
   ],
   "source": [
    "import matplotlib.pyplot as plt\n",
    "import seaborn as sns\n",
    "\n",
    "cnt_pro = df['category'].value_counts()\n",
    "plt.figure(figsize=(12,4))\n",
    "sns.barplot(cnt_pro.index, cnt_pro.values, alpha=0.8)\n",
    "plt.tick_params(color='r',labelsize=15)\n",
    "plt.ylabel('Number of Occurrences', fontsize=15, labelpad=18, fontweight='bold')\n",
    "plt.xlabel('News Category', fontsize=15, fontweight='bold')\n",
    "plt.xticks(rotation=90)\n",
    "plt.show();"
   ]
  },
  {
   "cell_type": "code",
   "execution_count": null,
   "metadata": {},
   "outputs": [],
   "source": []
  }
 ],
 "metadata": {
  "kernelspec": {
   "display_name": "Python 3",
   "language": "python",
   "name": "python3"
  },
  "language_info": {
   "codemirror_mode": {
    "name": "ipython",
    "version": 3
   },
   "file_extension": ".py",
   "mimetype": "text/x-python",
   "name": "python",
   "nbconvert_exporter": "python",
   "pygments_lexer": "ipython3",
   "version": "3.7.3"
  }
 },
 "nbformat": 4,
 "nbformat_minor": 2
}
